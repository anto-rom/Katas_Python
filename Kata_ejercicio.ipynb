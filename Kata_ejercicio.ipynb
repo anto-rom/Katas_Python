{
 "cells": [
  {
   "cell_type": "code",
   "execution_count": null,
   "metadata": {},
   "outputs": [],
   "source": [
    "# 1. Escribe una función que reciba una cadena de texto como parámetro y devuelva un diccionario con las frecuencias de cada letra en la cadena. Los espacios no deben ser considerados.\n",
    "\n",
    "def frecuencia_ejemplo(cadena):\n",
    "    \"\"\"\n",
    "        Defino la función dándole un nombre: \"frecuencia_ejemplo\" y un parámetro: \"cadena\"\n",
    "        Args:\n",
    "            frecuencias: creo un diccionario vacío dentro del parámetro.\n",
    "            for letra in cadena: creo un bucle que itere sobre la variable letra.\n",
    "            if letra != ' ': condicional que contiene la conversión de texto con .lower, método get desde 0 e incremento sobre el conteo\n",
    "            return: quiero que me devuelva el contenido del diccionario frecuencias\n",
    "        \"\"\"\n",
    "    frecuencias = {}\n",
    "    for letra in cadena:\n",
    "        if letra != ' ':\n",
    "            letra = letra.lower()\n",
    "            frecuencias[letra] = frecuencias.get(letra, 0) + 1\n",
    "    return frecuencias\n"
   ]
  },
  {
   "cell_type": "code",
   "execution_count": 2,
   "metadata": {},
   "outputs": [
    {
     "name": "stdout",
     "output_type": "stream",
     "text": [
      "{'k': 1, 'a': 2, 't': 2, 's': 1, 'd': 1, 'e': 1, 'p': 1, 'y': 1, 'h': 1, 'o': 1, 'n': 1}\n"
     ]
    }
   ],
   "source": [
    "texto = \"Katas de Python\"\n",
    "resultado = frecuencia_ejemplo(texto)\n",
    "print(resultado)\n"
   ]
  },
  {
   "cell_type": "code",
   "execution_count": 10,
   "metadata": {},
   "outputs": [
    {
     "name": "stdout",
     "output_type": "stream",
     "text": [
      "[2, 4, 6, 8, 10]\n"
     ]
    }
   ],
   "source": [
    "#2. Dada una lista de números, obtén una nueva lista con el doble de cada valor. Usa la función map()\n",
    "\n",
    "numeros = [1, 2, 3, 4, 5]\n",
    "dobles = list(map(lambda x: x * 2, numeros))\n",
    "print(dobles)\n"
   ]
  },
  {
   "cell_type": "code",
   "execution_count": 9,
   "metadata": {},
   "outputs": [
    {
     "name": "stdout",
     "output_type": "stream",
     "text": [
      "Legumbres que son 'lentejas': ['lentejas', 'lentejas']\n"
     ]
    }
   ],
   "source": [
    "# 3. Escribe una función que tome una lista de palabras y una palabra objetivo como parámetros. La función debe devolver una lista con todas las palabras de la lista original que contengan la palabra objetivo\n",
    "\n",
    "# Definimos primero la función\n",
    "def filtrar_palabras(palabras, objetivo):   \n",
    "    \"\"\"\n",
    "    Devuelve una lista con todas las palabras que contienen la palabra objetivo como subcadena.\n",
    "    \"\"\"\n",
    "    return list(filter(lambda palabra: objetivo in palabra, palabras))\n",
    "\n",
    "lista_palabras = [\n",
    "    \"arroz\", \n",
    "    \"judías\", \n",
    "    \"garbanzos\", \n",
    "    \"quinoa\", \n",
    "    \"avena\", \n",
    "    \"lentejas\", \n",
    "    \"lentejas\",\n",
    "    \"soja\",\n",
    "]\n",
    "\n",
    "# Palabra objetivo\n",
    "objetivo = \"lentejas\"  # Busca la palabra \"lentejas\" dentro de la lista\n",
    "\n",
    "# Aplicamos la función\n",
    "resultado = filtrar_palabras(lista_palabras, objetivo)\n",
    "\n",
    "# Imprimimos el resultado\n",
    "print(\"Legumbres que son '{}':\".format(objetivo), resultado)\n"
   ]
  },
  {
   "cell_type": "code",
   "execution_count": 8,
   "metadata": {},
   "outputs": [
    {
     "name": "stdout",
     "output_type": "stream",
     "text": [
      "Diferencia entre listas: [9, 18, 27, 36, 45]\n"
     ]
    }
   ],
   "source": [
    "# 4. Genera una función que calcule la diferencia entre los valores de dos listas. Usa la función map()\n",
    "\n",
    "def diferencia_listas(lista1, lista2):  \n",
    "    \"\"\"\n",
    "    Calcula la diferencia entre los valores de dos listas.\n",
    "    \"\"\"\n",
    "    return list(map(lambda x, y: x - y, lista1, lista2))\n",
    "# Listas de ejemplo \n",
    "lista1 = [10, 20, 30, 40, 50]\n",
    "lista2 = [1, 2, 3, 4, 5]\n",
    "# Aplicamos la función  \n",
    "resultado = diferencia_listas(lista1, lista2)\n",
    "# Imprimimos el resultado\n",
    "print(\"Diferencia entre listas:\", resultado)\n"
   ]
  },
  {
   "cell_type": "code",
   "execution_count": null,
   "metadata": {},
   "outputs": [
    {
     "name": "stdout",
     "output_type": "stream",
     "text": [
      "Media y estado: (7.571428571428571, 'aprobado')\n"
     ]
    }
   ],
   "source": [
    "# 5. Escribe una función que tome una lista de números como parámetro y un valor opcional nota_aprobado, que por defecto es 5. La función debe calcular la media de los números en la lista y determinar si la media es mayor o igual que nota aprobado. Si es así, el estado será \"aprobado\", de lo contrario, será \"suspenso\". La función debe devolver una tupla que contenga la media y el estado\n",
    "\n",
    "def calcular_media_y_estado(numeros, nota_aprobado=5):\n",
    "    \"\"\"\n",
    "    Calcula la media de una lista de números y determina si es aprobado o suspenso.\n",
    "    \"\"\"\n",
    "    if not numeros:\n",
    "        return (0, \"sin datos\")  # Manejo de caso especial para lista vacía\n",
    "    media = sum(numeros) / len(numeros)\n",
    "    estado = \"aprobado\" if media >= nota_aprobado else \"suspenso\"\n",
    "    return (media, estado)\n",
    "# Lista de números de ejemplo\n",
    "numeros = [6, 5, 8, 7, 8, 9, 10]\n",
    "# Aplicamos la función\n",
    "resultado = calcular_media_y_estado(numeros)\n",
    "# Imprimimos el resultado\n",
    "print(\"Media y estado:\", resultado) \n"
   ]
  },
  {
   "cell_type": "code",
   "execution_count": 15,
   "metadata": {},
   "outputs": [
    {
     "name": "stdout",
     "output_type": "stream",
     "text": [
      "El factorial de 7 es 5040\n"
     ]
    }
   ],
   "source": [
    "# 6. Escribe una función que calcule el factorial de un número de manera recursiva\n",
    "def factorial(n):\n",
    "    \"\"\"\n",
    "    Calcula el factorial de un número de manera recursiva.\n",
    "    \"\"\"\n",
    "    if n == 0 or n == 1:\n",
    "        return 1\n",
    "    else:\n",
    "        return n * factorial(n - 1)\n",
    "# Número de ejemplo\n",
    "numero = 7\n",
    "# Aplicamos la función\n",
    "resultado = factorial(numero)\n",
    "# Imprimimos el resultado\n",
    "print(\"El factorial de {} es {}\".format(numero, resultado))\n"
   ]
  },
  {
   "cell_type": "code",
   "execution_count": null,
   "metadata": {},
   "outputs": [
    {
     "name": "stdout",
     "output_type": "stream",
     "text": [
      "Lista de strings: ['1, 2', '3, 4', '5, 6', '7, 8']\n"
     ]
    }
   ],
   "source": [
    "#7. Genera una función que convierta una lista de tuplas a una lista de strings. Usa la función map()\n",
    "def convertir_tuplas_a_strings(tuplas):\n",
    "    \"\"\"\n",
    "    Convierte una lista de tuplas a una lista de strings.\n",
    "    \"\"\"\n",
    "    return list(map(lambda tupla: ', '.join(map(str, tupla)), tuplas))\n",
    "# Lista de tuplas de ejemplo\n",
    "tuplas = [(1, 2), (3, 4), (5, 6),(7, 8)]\n",
    "# Aplicamos la función\n",
    "resultado = convertir_tuplas_a_strings(tuplas)\n",
    "print(\"Lista de strings:\", resultado)"
   ]
  },
  {
   "cell_type": "code",
   "execution_count": 25,
   "metadata": {},
   "outputs": [
    {
     "name": "stdout",
     "output_type": "stream",
     "text": [
      "La división fue exitosa. Resultado: 2.0\n"
     ]
    }
   ],
   "source": [
    "# 8. Escribe un programa que pida al usuario dos números e intente dividirlos. Si el usuario ingresa un valor no numéricoo intenta dividir por cero, maneja esas excepciones de manera adecuada. Asegúrate de mostrar un mensaje indicando si la división fue exitosa o no\n",
    "def dividir_numeros():\n",
    "    \"\"\"\n",
    "    Pide al usuario dos números e intenta dividirlos.\n",
    "    \"\"\"\n",
    "    try:\n",
    "        num1 = float(input(\"Ingrese el primer número: \"))\n",
    "        num2 = float(input(\"Ingrese el segundo número: \"))\n",
    "        resultado = num1 / num2\n",
    "    except ValueError:\n",
    "        print(\"Error: Debe ingresar valores numéricos.\")\n",
    "        return\n",
    "    except ZeroDivisionError:\n",
    "        print(\"Error: No se puede dividir por cero.\")\n",
    "        return\n",
    "    else:\n",
    "        print(\"La división fue exitosa. Resultado:\", resultado)\n",
    "# Llamamos a la función\n",
    "dividir_numeros()\n"
   ]
  },
  {
   "cell_type": "code",
   "execution_count": 22,
   "metadata": {},
   "outputs": [
    {
     "name": "stdout",
     "output_type": "stream",
     "text": [
      "Mascotas permitidas: ['Perro', 'Gato', 'Conejo']\n"
     ]
    }
   ],
   "source": [
    "# 9. Escribe una función que tome una lista de nombres de mascotas como parámetro y devuelva una nueva lista excluyendo ciertas mascotas prohibidas en España. La lista de mascotas a excluir es [\"Mapache\", \"Tigre\", \"Serpiente Pitón\", \"Cocodrilo\", \"Oso\"].Usa la función filter()\n",
    "def filtrar_mascotas(mascotas):\n",
    "    \"\"\"\n",
    "    Filtra una lista de mascotas excluyendo las prohibidas.\n",
    "    \"\"\"\n",
    "    mascotas_prohibidas = [\"Mapache\", \"Tigre\", \"Serpiente Pitón\", \"Cocodrilo\", \"Oso\"]\n",
    "    return list(filter(lambda mascota: mascota not in mascotas_prohibidas, mascotas))\n",
    "# Lista de mascotas de ejemplo\n",
    "mascotas = [\"Perro\", \"Gato\", \"Mapache\", \"Tigre\", \"Serpiente Pitón\", \"Cocodrilo\", \"Oso\", \"Conejo\"]\n",
    "# Aplicamos la función\n",
    "resultado = filtrar_mascotas(mascotas)\n",
    "# Imprimimos el resultado\n",
    "print(\"Mascotas permitidas:\", resultado)\n"
   ]
  },
  {
   "cell_type": "code",
   "execution_count": 23,
   "metadata": {},
   "outputs": [
    {
     "name": "stdout",
     "output_type": "stream",
     "text": [
      "Números pares: [2, 4, 6, 8, 10]\n"
     ]
    }
   ],
   "source": [
    "# 10. Escribe una función que tome una lista de números y devuelva una nueva lista con los números pares. Usa la función filter()\n",
    "def filtrar_pares(numeros):\n",
    "    \"\"\"\n",
    "    Filtra una lista de números y devuelve solo los pares.\n",
    "    \"\"\"\n",
    "    return list(filter(lambda x: x % 2 == 0, numeros))\n",
    "# Lista de números de ejemplo\n",
    "numeros = [1, 2, 3, 4, 5, 6, 7, 8, 9, 10]\n",
    "# Aplicamos la función\n",
    "resultado = filtrar_pares(numeros)\n",
    "# Imprimimos el resultado\n",
    "print(\"Números pares:\", resultado)\n"
   ]
  },
  {
   "cell_type": "code",
   "execution_count": null,
   "metadata": {},
   "outputs": [
    {
     "name": "stdout",
     "output_type": "stream",
     "text": [
      "Error: Edad fuera de rango.\n"
     ]
    }
   ],
   "source": [
    "# 11. Escribe un programa que pida al usuario que introduzca su edad. Si el usuario ingresa un valor no numérico o un valor fuera del rango esperado (por ejemplo, menor que 0 o mayor que 120), maneja las excepciones adecuadamente. \n",
    "def pedir_edad():\n",
    "    \"\"\"\n",
    "    Pide al usuario que introduzca su edad.\n",
    "    \"\"\"\n",
    "    try:\n",
    "        edad = int(input(\"Ingrese su edad: \"))\n",
    "        if edad < 0 or edad > 120:\n",
    "            raise ValueError(\"Edad fuera de rango.\")\n",
    "    except ValueError as e:\n",
    "        print(\"Error:\", e)\n",
    "        return\n",
    "    else:\n",
    "        print(\"Edad ingresada correctamente:\", edad)\n",
    "# Llamamos a la función\n",
    "pedir_edad()\n"
   ]
  },
  {
   "cell_type": "code",
   "execution_count": 29,
   "metadata": {},
   "outputs": [
    {
     "name": "stdout",
     "output_type": "stream",
     "text": [
      "Longitud de palabras: [2, 5, 6, 3, 19]\n"
     ]
    }
   ],
   "source": [
    "# 12. Genera una función que al recibir una frase devuelva una lista con la longitud de cada palabra. Usa la función map()\n",
    "def longitud_palabras(frase):\n",
    "    \"\"\"\n",
    "    Devuelve una lista con la longitud de cada palabra en la frase.\n",
    "    \"\"\"\n",
    "    return list(map(len, frase.split()))\n",
    "# Frase de ejemplo\n",
    "frase = \"De mayor quiero ser otorrinolaringólogo\"\n",
    "# Aplicamos la función\n",
    "resultado = longitud_palabras(frase)\n",
    "# Imprimimos el resultado\n",
    "print(\"Longitud de palabras:\", resultado)"
   ]
  },
  {
   "cell_type": "code",
   "execution_count": null,
   "metadata": {},
   "outputs": [
    {
     "name": "stdout",
     "output_type": "stream",
     "text": [
      "Lista de tuplas: [('D', 'd'), ('O', 'o'), ('M', 'm'), ('N', 'n'), ('U', 'u')]\n"
     ]
    }
   ],
   "source": [
    "# 13. Genera una función la cual, para un conjunto de caracteres, devuelva una lista de tuplas con cada letra en mayúsculas y minúsculas. Las letras no pueden estar repetidas .Usa la función map()\n",
    "def letras_mayus_minus(caracteres):\n",
    "    \"\"\"\n",
    "    Devuelve una lista de tuplas con cada letra en mayúsculas y minúsculas.\n",
    "    \"\"\"\n",
    "    letras = set(caracteres)  # Eliminar duplicados\n",
    "    return list(map(lambda letra: (letra.upper(), letra.lower()), letras))\n",
    "# Conjunto de caracteres de ejemplo\n",
    "caracteres = \"Mundo\"\n",
    "# Aplicamos la función y la imprimimos.\n",
    "resultado = letras_mayus_minus(caracteres)\n",
    "print(\"Lista de tuplas:\", resultado)"
   ]
  },
  {
   "cell_type": "code",
   "execution_count": 32,
   "metadata": {},
   "outputs": [
    {
     "name": "stdout",
     "output_type": "stream",
     "text": [
      "Palabras que comienzan con 'P': ['Perro', 'Periquito']\n"
     ]
    }
   ],
   "source": [
    "# 14. Crea una función que retorne las palabras de una lista de palabras que comience con una letra en especifico. Usa la función filter()\n",
    "def palabras_con_letra(palabras, letra):\n",
    "    \"\"\"\n",
    "    Devuelve una lista de palabras que comienzan con una letra específica.\n",
    "    \"\"\"\n",
    "    return list(filter(lambda palabra: palabra.startswith(letra), palabras))\n",
    "# Lista de palabras de ejemplo\n",
    "palabras = [\"Perro\", \"Periquito\", \"Gato\", \"Elefante\", \"Tigre\", \"Serpiente\"]\n",
    "# Letra de ejemplo\n",
    "letra = \"P\"\n",
    "# Aplicamos la función\n",
    "resultado = palabras_con_letra(palabras, letra)\n",
    "# Imprimimos el resultado\n",
    "print(\"Palabras que comienzan con '{}':\".format(letra), resultado)"
   ]
  },
  {
   "cell_type": "code",
   "execution_count": 33,
   "metadata": {},
   "outputs": [
    {
     "name": "stdout",
     "output_type": "stream",
     "text": [
      "Lista con 3 sumado a cada número: [4, 5, 6, 7, 8]\n"
     ]
    }
   ],
   "source": [
    "# 15. Crea una función lambda que sume 3 a cada número de una lista dada.\n",
    "suma_tres = lambda numeros: list(map(lambda x: x + 3, numeros))\n",
    "# Lista de números de ejemplo\n",
    "numeros = [1, 2, 3, 4, 5]\n",
    "# Aplicamos la función\n",
    "resultado = suma_tres(numeros)\n",
    "# Imprimimos el resultado\n",
    "print(\"Lista con 3 sumado a cada número:\", resultado)"
   ]
  },
  {
   "cell_type": "code",
   "execution_count": 34,
   "metadata": {},
   "outputs": [
    {
     "name": "stdout",
     "output_type": "stream",
     "text": [
      "Palabras más largas que 5: ['creando', 'función', 'devuelve', 'palabras', 'largas']\n"
     ]
    }
   ],
   "source": [
    "# 16. Escribe una función que tome una cadena de texto y un número entero n como parámetros y devuelva una lista de todas las palabras que sean más largas que n. Usa la función filter()\n",
    "def palabras_mas_largas(cadena, n):\n",
    "    \"\"\"\n",
    "    Devuelve una lista de palabras que son más largas que n.\n",
    "    \"\"\"\n",
    "    return list(filter(lambda palabra: len(palabra) > n, cadena.split()))\n",
    "# Cadena de texto de ejemplo\n",
    "cadena = \"Estoy creando una función que devuelve palabras más largas que n\"\n",
    "# Número de ejemplo\n",
    "n = 5\n",
    "# Aplicamos la función\n",
    "resultado = palabras_mas_largas(cadena, n)\n",
    "# Imprimimos el resultado\n",
    "print(\"Palabras más largas que {}:\".format(n), resultado)\n"
   ]
  },
  {
   "cell_type": "code",
   "execution_count": 35,
   "metadata": {},
   "outputs": [
    {
     "name": "stdout",
     "output_type": "stream",
     "text": [
      "Número correspondiente: 572\n"
     ]
    }
   ],
   "source": [
    "# 17. Crea una función que tome una lista de dígitos y devuelva el número correspondiente. Por ejemplo, [5,7,2] corresponde al número quinientos setenta y dos (572). Usa la función reduce()\n",
    "from functools import reduce\n",
    "def lista_a_numero(digitos):\n",
    "    \"\"\"\n",
    "    Convierte una lista de dígitos en un número.\n",
    "    \"\"\"\n",
    "    return reduce(lambda x, y: x * 10 + y, digitos)\n",
    "# Lista de dígitos de ejemplo\n",
    "digitos = [5, 7, 2]\n",
    "# Aplicamos la función e imprimimos el resultado.\n",
    "resultado = lista_a_numero(digitos)\n",
    "print(\"Número correspondiente:\", resultado)"
   ]
  },
  {
   "cell_type": "code",
   "execution_count": 36,
   "metadata": {},
   "outputs": [
    {
     "name": "stdout",
     "output_type": "stream",
     "text": [
      "Estudiantes con calificación >= 90: [{'nombre': 'Juan', 'edad': 20, 'calificacion': 95}, {'nombre': 'Luis', 'edad': 19, 'calificacion': 90}]\n"
     ]
    }
   ],
   "source": [
    "# 18. Escribe un programa en Python que cree una lista de diccionarios que contenga información de estudiantes (nombre, edad, calificación) y use la función filter para extraer a los estudiantes con una calificación mayor o igual a 90. Usa la función filter()\n",
    "def filtrar_estudiantes(estudiantes):\n",
    "    \"\"\"\n",
    "    Filtra una lista de estudiantes con calificación mayor o igual a 90.\n",
    "    \"\"\"\n",
    "    return list(filter(lambda estudiante: estudiante['calificacion'] >= 90, estudiantes))\n",
    "# Lista de estudiantes de ejemplo\n",
    "estudiantes = [\n",
    "    {\"nombre\": \"Juan\", \"edad\": 20, \"calificacion\": 95},\n",
    "    {\"nombre\": \"Ana\", \"edad\": 22, \"calificacion\": 85},\n",
    "    {\"nombre\": \"Luis\", \"edad\": 19, \"calificacion\": 90},\n",
    "    {\"nombre\": \"Maria\", \"edad\": 21, \"calificacion\": 88},\n",
    "]\n",
    "# Aplicamos la función\n",
    "resultado = filtrar_estudiantes(estudiantes)\n",
    "# Imprimimos el resultado\n",
    "print(\"Estudiantes con calificación >= 90:\", resultado)"
   ]
  },
  {
   "cell_type": "code",
   "execution_count": 37,
   "metadata": {},
   "outputs": [
    {
     "name": "stdout",
     "output_type": "stream",
     "text": [
      "Números impares: [1, 3, 5, 7, 9]\n"
     ]
    }
   ],
   "source": [
    "# 19. Crea una función lambda que filtre los números impares de una lista dada.\n",
    "numeros_impares = lambda numeros: list(filter(lambda x: x % 2 != 0, numeros))\n",
    "# Lista de números de ejemplo\n",
    "numeros = [1, 2, 3, 4, 5, 6, 7, 8, 9, 10]\n",
    "# Aplicamos la función\n",
    "resultado = numeros_impares(numeros)\n",
    "# Imprimimos el resultado\n",
    "print(\"Números impares:\", resultado)"
   ]
  },
  {
   "cell_type": "code",
   "execution_count": null,
   "metadata": {},
   "outputs": [
    {
     "name": "stdout",
     "output_type": "stream",
     "text": [
      "Lista con solo enteros: [1, 3, 5, 7]\n"
     ]
    }
   ],
   "source": [
    "# 20. Para una lista con elementos tipo integer y string obtén una nueva lista sólo con los valores int. Usa la función filter()\n",
    "def filtrar_enteros(lista):\n",
    "    \"\"\"\n",
    "    Filtra una lista y devuelve solo los valores integer.\n",
    "    \"\"\"\n",
    "    return list(filter(lambda x: isinstance(x, int), lista))\n",
    "# Lista de ejemplo\n",
    "lista = [1, \"dos\", 3, \"cuatro\", 5, \"seis\", 7]\n",
    "# Aplicamos la función\n",
    "resultado = filtrar_enteros(lista)\n",
    "# Imprimimos el resultado\n",
    "print(\"Lista con solo enteros:\", resultado)"
   ]
  },
  {
   "cell_type": "code",
   "execution_count": 39,
   "metadata": {},
   "outputs": [
    {
     "name": "stdout",
     "output_type": "stream",
     "text": [
      "Cubo de 3 es: 27\n"
     ]
    }
   ],
   "source": [
    "# 21. Crea una función que calcule el cubo de un número dado mediante una función lambda\n",
    "cubo = lambda x: x ** 3\n",
    "# Número de ejemplo\n",
    "numero = 3\n",
    "# Aplicamos la función\n",
    "resultado = cubo(numero)\n",
    "# Imprimimos el resultado\n",
    "print(\"Cubo de {} es: {}\".format(numero, resultado))\n"
   ]
  },
  {
   "cell_type": "code",
   "execution_count": 40,
   "metadata": {},
   "outputs": [
    {
     "name": "stdout",
     "output_type": "stream",
     "text": [
      "Producto total de la lista: 120\n"
     ]
    }
   ],
   "source": [
    "# 22. Dada una lista numérica, obtén el producto total de los valores de dicha lista. Usa la función reduce() \n",
    "from functools import reduce\n",
    "def producto_lista(numeros):\n",
    "    \"\"\"\n",
    "    Calcula el producto total de una lista numérica.\n",
    "    \"\"\"\n",
    "    return reduce(lambda x, y: x * y, numeros)\n",
    "# Lista de números de ejemplo\n",
    "numeros = [1, 2, 3, 4, 5]\n",
    "# Aplicamos la función\n",
    "resultado = producto_lista(numeros)\n",
    "# Imprimimos el resultado\n",
    "print(\"Producto total de la lista:\", resultado)"
   ]
  },
  {
   "cell_type": "code",
   "execution_count": 42,
   "metadata": {},
   "outputs": [
    {
     "name": "stdout",
     "output_type": "stream",
     "text": [
      "Cadena concatenada: Hola me llamo Antonio\n"
     ]
    }
   ],
   "source": [
    "# 23. Concatena una lista de palabras.Usa la función reduce() \n",
    "def concatenar_palabras(palabras):\n",
    "    \"\"\"\n",
    "    Concatena una lista de palabras en una sola cadena.\n",
    "    \"\"\"\n",
    "    return reduce(lambda x, y: x + \" \" + y, palabras)\n",
    "# Lista de palabras de ejemplo\n",
    "palabras = [\"Hola\", \"me\", \"llamo\", \"Antonio\"]\n",
    "# Aplicamos la función\n",
    "resultado = concatenar_palabras(palabras)\n",
    "# Imprimimos el resultado\n",
    "print(\"Cadena concatenada:\", resultado)"
   ]
  },
  {
   "cell_type": "code",
   "execution_count": 44,
   "metadata": {},
   "outputs": [
    {
     "name": "stdout",
     "output_type": "stream",
     "text": [
      "Diferencia total de la lista: 3\n"
     ]
    }
   ],
   "source": [
    "# 24. Calcula la diferencia total en los valores de una lista. Usa la función reduce()\n",
    "def diferencia_total(numeros):\n",
    "    \"\"\"\n",
    "    Calcula la diferencia total de una lista numérica.\n",
    "    \"\"\"\n",
    "    return reduce(lambda x, y: x - y, numeros)\n",
    "# Lista de números de ejemplo\n",
    "numeros = [12, 2, 3, 4]\n",
    "# Aplicamos la función\n",
    "resultado = diferencia_total(numeros)\n",
    "# Imprimimos el resultado\n",
    "print(\"Diferencia total de la lista:\", resultado)\n"
   ]
  },
  {
   "cell_type": "code",
   "execution_count": 45,
   "metadata": {},
   "outputs": [
    {
     "name": "stdout",
     "output_type": "stream",
     "text": [
      "Número de caracteres: 11\n"
     ]
    }
   ],
   "source": [
    "# 25. Crea una función que cuente el número de caracteres en una cadena de texto dada.\n",
    "def contar_caracteres(cadena):\n",
    "    \"\"\"\n",
    "    Cuenta el número de caracteres en una cadena de texto.\n",
    "    \"\"\"\n",
    "    return len(cadena)\n",
    "# Cadena de texto de ejemplo\n",
    "cadena = \"Hola, Mundo\"\n",
    "# Aplicamos la función\n",
    "resultado = contar_caracteres(cadena)\n",
    "# Imprimimos el resultado\n",
    "print(\"Número de caracteres:\", resultado)"
   ]
  },
  {
   "cell_type": "code",
   "execution_count": 46,
   "metadata": {},
   "outputs": [
    {
     "name": "stdout",
     "output_type": "stream",
     "text": [
      "Resto de la división entre 10 y 3 es: 1\n"
     ]
    }
   ],
   "source": [
    "# 26. Crea una función lambda que calcule el resto de la división entre dos números dados.\n",
    "resto_division = lambda x, y: x % y\n",
    "# Números de ejemplo\n",
    "numero1 = 10\n",
    "numero2 = 3\n",
    "# Aplicamos la función\n",
    "resultado = resto_division(numero1, numero2)\n",
    "# Imprimimos el resultado\n",
    "print(\"Resto de la división entre {} y {} es: {}\".format(numero1, numero2, resultado))"
   ]
  },
  {
   "cell_type": "code",
   "execution_count": 47,
   "metadata": {},
   "outputs": [
    {
     "name": "stdout",
     "output_type": "stream",
     "text": [
      "Promedio de la lista: 3.0\n"
     ]
    }
   ],
   "source": [
    "# 27. Crea una función que calcule el promedio de una lista de números.\n",
    "def calcular_promedio(numeros):\n",
    "    \"\"\"\n",
    "    Calcula el promedio de una lista de números.\n",
    "    \"\"\"\n",
    "    if not numeros:\n",
    "        return 0\n",
    "    return sum(numeros) / len(numeros)\n",
    "# Lista de números de ejemplo\n",
    "numeros = [1, 2, 3, 4, 5]\n",
    "# Aplicamos la función\n",
    "resultado = calcular_promedio(numeros)\n",
    "# Imprimimos el resultado\n",
    "print(\"Promedio de la lista:\", resultado)"
   ]
  },
  {
   "cell_type": "code",
   "execution_count": null,
   "metadata": {},
   "outputs": [
    {
     "name": "stdout",
     "output_type": "stream",
     "text": [
      "Primer duplicado: 2\n"
     ]
    }
   ],
   "source": [
    "# 28. Crea una función que busque y devuelva el primer elemento duplicado en una lista dada\n",
    "def primer_duplicado(lista):\n",
    "    \"\"\"\n",
    "    Devuelve el primer elemento duplicado en una lista.\n",
    "    \"\"\"\n",
    "    vistos = set()\n",
    "    for elemento in lista:\n",
    "        if elemento in vistos:\n",
    "            return elemento\n",
    "        vistos.add(elemento)\n",
    "    return None\n",
    "# Lista de ejemplo\n",
    "lista = [1, 2, 3, 4, 5, 2, 3, 6]\n",
    "# Aplicamos la función\n",
    "resultado = primer_duplicado(lista)\n",
    "# Imprimimos el resultado\n",
    "print(\"Primer duplicado:\", resultado)"
   ]
  },
  {
   "cell_type": "code",
   "execution_count": 49,
   "metadata": {},
   "outputs": [
    {
     "name": "stdout",
     "output_type": "stream",
     "text": [
      "Variable enmascarada: #####6789\n"
     ]
    }
   ],
   "source": [
    "# 29. Crea una función que convierta una variable en una cadena de texto y enmascare todos los caracteres con el carácter '#', excepto los últimos cuatro.\n",
    "def enmascarar_variable(variable):\n",
    "    \"\"\"\n",
    "    Enmascara todos los caracteres de una variable con '#' excepto los últimos cuatro.\n",
    "    \"\"\"\n",
    "    cadena = str(variable)\n",
    "    if len(cadena) <= 4:\n",
    "        return cadena\n",
    "    return '#' * (len(cadena) - 4) + cadena[-4:]\n",
    "# Variable de ejemplo\n",
    "variable = 123456789\n",
    "# Aplicamos la función\n",
    "resultado = enmascarar_variable(variable)\n",
    "# Imprimimos el resultado\n",
    "print(\"Variable enmascarada:\", resultado)\n"
   ]
  },
  {
   "cell_type": "code",
   "execution_count": 51,
   "metadata": {},
   "outputs": [
    {
     "name": "stdout",
     "output_type": "stream",
     "text": [
      "¿Son anagramas? True\n"
     ]
    }
   ],
   "source": [
    "# 30. Crea una función que determine si dos palabras son anagramas, es decir, si están formadas por las mismas letras pero en diferente orden.\n",
    "def son_anagramas(palabra1, palabra2):\n",
    "    \"\"\"\n",
    "    Determina si dos palabras son anagramas.\n",
    "    \"\"\"\n",
    "    return sorted(palabra1) == sorted(palabra2)\n",
    "# Palabras de ejemplo\n",
    "palabra1 = \"trama\"\n",
    "palabra2 = \"marta\"\n",
    "# Aplicamos la función\n",
    "resultado = son_anagramas(palabra1, palabra2)\n",
    "# Imprimimos el resultado\n",
    "print(\"¿Son anagramas?\", resultado)"
   ]
  },
  {
   "cell_type": "code",
   "execution_count": 52,
   "metadata": {},
   "outputs": [
    {
     "name": "stdout",
     "output_type": "stream",
     "text": [
      "Nombre encontrado: toni\n"
     ]
    }
   ],
   "source": [
    "# 31. Crea una función que solicite al usuario ingresar una lista de nombres y luego solicite un nombre para buscar en esa lista. Si el nombre está en la lista, se imprime un mensaje indicando que fue encontrado, de lo contrario, se lanza una excepción.\n",
    "def buscar_nombre():\n",
    "    \"\"\"\n",
    "    Solicita al usuario ingresar una lista de nombres y busca un nombre en esa lista.\n",
    "    \"\"\"\n",
    "    try:\n",
    "        nombres = input(\"Ingrese una lista de nombres separados por comas: \").split(\",\")\n",
    "        nombre_a_buscar = input(\"Ingrese el nombre a buscar: \")\n",
    "        if nombre_a_buscar.strip() in [nombre.strip() for nombre in nombres]:\n",
    "            print(\"Nombre encontrado:\", nombre_a_buscar)\n",
    "        else:\n",
    "            raise ValueError(\"Nombre no encontrado.\")\n",
    "    except ValueError as e:\n",
    "        print(\"Error:\", e)\n",
    "# Llamamos a la función\n",
    "buscar_nombre()"
   ]
  },
  {
   "cell_type": "code",
   "execution_count": 54,
   "metadata": {},
   "outputs": [
    {
     "name": "stdout",
     "output_type": "stream",
     "text": [
      "Puesto del empleado: Supervisora\n"
     ]
    }
   ],
   "source": [
    "# 32. Crea una función que tome un nombre completo y una lista de empleados, busque el nombre completo en la lista y devuelve el puesto del empleado si está en la lista, de lo contrario, devuelve un mensaje indicando que la persona no trabaja aquí.\n",
    "def buscar_empleado(nombre_completo, empleados):\n",
    "    \"\"\"\n",
    "    Busca un empleado en una lista y devuelve su puesto.\n",
    "    \"\"\"\n",
    "    for empleado in empleados:\n",
    "        if empleado['nombre'] == nombre_completo:\n",
    "            return empleado['puesto']\n",
    "    return \"La persona no trabaja aquí.\"\n",
    "# Lista de empleados de ejemplo\n",
    "empleados = [\n",
    "    {\"nombre\": \"Juan Pérez\", \"puesto\": \"Director\"},\n",
    "    {\"nombre\": \"Ana Gómez\", \"puesto\": \"Supervisora\"},\n",
    "    {\"nombre\": \"Luis Rodríguez\", \"puesto\": \"Empleado\"},\n",
    "]\n",
    "# Nombre completo de ejemplo\n",
    "nombre_completo = \"Ana Gómez\"\n",
    "# Aplicamos la función\n",
    "resultado = buscar_empleado(nombre_completo, empleados)\n",
    "# Imprimimos el resultado\n",
    "print(\"Puesto del empleado:\", resultado)"
   ]
  },
  {
   "cell_type": "code",
   "execution_count": 55,
   "metadata": {},
   "outputs": [
    {
     "name": "stdout",
     "output_type": "stream",
     "text": [
      "Suma de listas: [5, 7, 9]\n"
     ]
    }
   ],
   "source": [
    "# 33. Crea una función lambda que sume elementos correspondientes de dos listas dadas.\n",
    "suma_listas = lambda lista1, lista2: list(map(lambda x, y: x + y, lista1, lista2))\n",
    "# Listas de ejemplo\n",
    "lista1 = [1, 2, 3]\n",
    "lista2 = [4, 5, 6]\n",
    "# Aplicamos la función\n",
    "resultado = suma_listas(lista1, lista2)\n",
    "# Imprimimos el resultado\n",
    "print(\"Suma de listas:\", resultado)"
   ]
  },
  {
   "cell_type": "markdown",
   "metadata": {},
   "source": [
    "34. Crea la clase Arbol , define un árbol genérico con un tronco y ramas como atributos. Los métodos disponibles son: \n",
    "crecer_tronco , nueva_rama , crecer_ramas , quitar_rama e info_arbol . El objetivo es implementar estos métodos para\n",
    "manipular la estructura del árbol.\n",
    "Código a seguir:\n",
    "1. Inicializar un árbol con un tronco de longitud 1 y una lista vacía de ramas.\n",
    "2. Implementar el método crecer_tronco para aumentar la longitud del tronco en una unidad.\n",
    "3. Implementar el método nueva_rama para agregar una nueva rama de longitud 1 a la lista de ramas.\n",
    "4. Implementar el método crecer_ramas para aumentar en una unidad la longitud de todas las ramas existentes.\n",
    "5. Implementar el método quitar_rama para eliminar una rama en una posición específica.\n",
    "6. Implementar el método \n",
    "info_arbol para devolver información sobre la longitud del tronco, el número de ramas y las longitudes de las\n",
    "mismas.\n",
    "Caso de uso:\n",
    "1. Crear un árbol.\n",
    "2. Hacer crecer el tronco del árbol una unidad.\n",
    "3. Añadir una nueva rama al árbol.\n",
    "4. Hacer crecer todas las ramas del árbol una unidad.\n",
    "5. Añadir dos nuevas ramas al árbol.\n",
    "6. Retirar la rama situada en la posición 2.\n",
    "7. Obtener información sobre el árbol.\n"
   ]
  },
  {
   "cell_type": "code",
   "execution_count": 56,
   "metadata": {},
   "outputs": [
    {
     "name": "stdout",
     "output_type": "stream",
     "text": [
      "Información del árbol:\n",
      "Longitud del tronco: 2\n",
      "Número de ramas: 2\n",
      "Longitudes de las ramas: [2, 1]\n"
     ]
    }
   ],
   "source": [
    "class Arbol:\n",
    "    def __init__(self):\n",
    "        self.tronco = 1\n",
    "        self.ramas = []\n",
    "\n",
    "    def crecer_tronco(self):\n",
    "        self.tronco += 1\n",
    "\n",
    "    def nueva_rama(self):\n",
    "        self.ramas.append(1)\n",
    "\n",
    "    def crecer_ramas(self):\n",
    "        self.ramas = [rama + 1 for rama in self.ramas]\n",
    "\n",
    "    def quitar_rama(self, posicion):\n",
    "        if 0 <= posicion < len(self.ramas):\n",
    "            del self.ramas[posicion]\n",
    "        else:\n",
    "            print(f\"Posición {posicion} inválida. No se puede quitar la rama.\")\n",
    "\n",
    "    def info_arbol(self):\n",
    "        return {\n",
    "            \"longitud_tronco\": self.tronco,\n",
    "            \"numero_ramas\": len(self.ramas),\n",
    "            \"longitudes_ramas\": self.ramas\n",
    "        }\n",
    "\n",
    "# Caso de uso\n",
    "arbol = Arbol()                 # 1. Crear un árbol\n",
    "arbol.crecer_tronco()          # 2. Hacer crecer el tronco una unidad\n",
    "arbol.nueva_rama()             # 3. Añadir una nueva rama\n",
    "arbol.crecer_ramas()           # 4. Hacer crecer todas las ramas\n",
    "arbol.nueva_rama()             # 5. Añadir dos nuevas ramas\n",
    "arbol.nueva_rama()\n",
    "arbol.quitar_rama(2)           # 6. Retirar la rama en la posición 2\n",
    "info = arbol.info_arbol()      # 7. Obtener información\n",
    "\n",
    "# Mostrar la información del árbol\n",
    "print(\"Información del árbol:\")\n",
    "print(f\"Longitud del tronco: {info['longitud_tronco']}\")\n",
    "print(f\"Número de ramas: {info['numero_ramas']}\")\n",
    "print(f\"Longitudes de las ramas: {info['longitudes_ramas']}\")\n"
   ]
  },
  {
   "cell_type": "markdown",
   "metadata": {},
   "source": [
    "36. Crea la clase UsuarioBanco ,representa a un usuario de un banco con su nombre, saldo y si tiene o no cuenta\n",
    "corriente. Proporciona métodos para realizar operaciones como retirar dinero, transferir dinero desde otro usuario y\n",
    "agregar dinero al saldo.\n",
    "Código a seguir:\n",
    "1. Inicializar un usuario con su nombre, saldo y si tiene o no cuenta corriente mediante True y False .\n",
    "2. Implementar el método retirar_dinero para retirar dinero del saldo del usuario. Lanzará un error en caso de no\n",
    "poder hacerse.\n",
    "3. Implementar el método transferir_dinero para realizar una transferencia desde otro usuario al usuario actual.\n",
    "Lanzará un error en caso de no poder hacerse.\n",
    "4. Implementar el método agregar_dinero para agregar dinero al saldo del usuario.\n",
    "Caso de uso:\n",
    "1. Crear dos usuarios: \"Alicia\" con saldo inicial de 100 y \"Bob\" con saldo inicial de 50, ambos con cuenta corriente.\n",
    "PROYECTO LÓGICA: Katas de Python 3\n",
    "2. Agregar 20 unidades de saldo de \"Bob\".\n",
    "3. Hacer una transferencia de 80 unidades desde \"Bob\" a \"Alicia\".\n",
    "4. Retirar 50 unidades de saldo a \"Alicia\""
   ]
  },
  {
   "cell_type": "code",
   "execution_count": 59,
   "metadata": {},
   "outputs": [
    {
     "name": "stdout",
     "output_type": "stream",
     "text": [
      "Bob ha agregado 20 unidades. Saldo actual: 70\n",
      "Error: no puede transferir saldo.\n",
      "Alicia ha retirado 50 unidades. Saldo actual: 50\n"
     ]
    }
   ],
   "source": [
    "class UsuarioBanco:\n",
    "    def __init__(self, nombre, saldo, cuenta_corriente):\n",
    "        self.nombre = nombre\n",
    "        self.saldo = saldo\n",
    "        self.cuenta_corriente = cuenta_corriente\n",
    "\n",
    "    def retirar_dinero(self, cantidad):\n",
    "        if cantidad > self.saldo:\n",
    "            print(f\"Error: {self.nombre} no puede retirar {cantidad} unidades. Saldo insuficiente.\")\n",
    "        else:\n",
    "            self.saldo -= cantidad\n",
    "            print(f\"{self.nombre} ha retirado {cantidad} unidades. Saldo actual: {self.saldo}\")\n",
    "\n",
    "    def transferir_dinero(self, otro_usuario, cantidad):\n",
    "        if cantidad > otro_usuario.saldo:\n",
    "            print(\"Error: no puede transferir saldo.\")\n",
    "        else:\n",
    "            otro_usuario.saldo -= cantidad\n",
    "            self.saldo += cantidad\n",
    "            print(f\"{otro_usuario.nombre} ha transferido {cantidad} unidades a {self.nombre}.\")\n",
    "            print(f\"Saldo de {otro_usuario.nombre}: {otro_usuario.saldo}\")\n",
    "            print(f\"Saldo de {self.nombre}: {self.saldo}\")\n",
    "\n",
    "    def agregar_dinero(self, cantidad):\n",
    "        self.saldo += cantidad\n",
    "        print(f\"{self.nombre} ha agregado {cantidad} unidades. Saldo actual: {self.saldo}\")\n",
    "\n",
    "\n",
    "# Caso de uso\n",
    "alicia = UsuarioBanco(\"Alicia\", 100, True)\n",
    "bob = UsuarioBanco(\"Bob\", 50, True)\n",
    "\n",
    "# Paso 2: Agregar 20 unidades a Bob\n",
    "bob.agregar_dinero(20)  # Bob: 70\n",
    "\n",
    "# Paso 3: Intentar transferir 80 unidades de Bob a Alicia (debería fallar)\n",
    "alicia.transferir_dinero(bob, 80)  # Error esperado\n",
    "\n",
    "# Paso 4: Retirar 50 unidades a Alicia\n",
    "alicia.retirar_dinero(50)  # Alicia: 50\n"
   ]
  },
  {
   "cell_type": "markdown",
   "metadata": {},
   "source": [
    "37. Crea una función llamada procesar_texto que procesa un texto según la opción especificada: contar_palabras , \n",
    "reemplazar_palabras , eliminar_palabra . Estas opciones son otras funciones que tenemos que definir primero y llamar dentro\n",
    "de la función procesar_texto .\n",
    "Código a seguir:\n",
    "1. Crear una función contar_palabras para contar el número de veces que aparece cada palabra en el texto. Tiene\n",
    "que devolver un diccionario.\n",
    "2. Crear una función reemplazar_palabras para remplazar una palabra_original del texto por una palabra_nueva . Tiene\n",
    "que devolver el texto con el remplazo de palabras.\n",
    "3. Crear una función eliminar_palabra para eliminar una palabra del texto. Tiene que devolver el texto con la palabra\n",
    "eliminada.\n",
    "4. Crear la función procesar_texto que tome un texto, una opción(entre \"contar\", \"reemplazar\", \"eliminar\") y un\n",
    "número de argumentos variable según la opción indicada.\n",
    "Caso de uso:\n",
    "Comprueba el funcionamiento completo de la función procesar_texto"
   ]
  },
  {
   "cell_type": "code",
   "execution_count": 61,
   "metadata": {},
   "outputs": [
    {
     "name": "stdout",
     "output_type": "stream",
     "text": [
      "Contar palabras:\n",
      "{'este': 1, 'ejercicio': 1, 'es': 1, 'muy': 1, 'complicado': 1}\n",
      "\n",
      "Reemplazar palabra:\n",
      "Este problema es muy complicado.\n",
      "\n",
      "Eliminar palabra:\n",
      "Este ejercicio es complicado.\n"
     ]
    }
   ],
   "source": [
    "def contar_palabras(texto):\n",
    "    \"\"\"Cuenta el número de veces que aparece cada palabra en el texto.\"\"\"\n",
    "    palabras = texto.split()\n",
    "    conteo = {}\n",
    "    for palabra in palabras:\n",
    "        palabra_limpia = palabra.strip('.,!?').lower()\n",
    "        conteo[palabra_limpia] = conteo.get(palabra_limpia, 0) + 1\n",
    "    return conteo\n",
    "\n",
    "def reemplazar_palabras(texto, palabra_original, palabra_nueva):\n",
    "    \"\"\"Reemplaza todas las ocurrencias de una palabra por otra en el texto.\"\"\"\n",
    "    return texto.replace(palabra_original, palabra_nueva)\n",
    "\n",
    "def eliminar_palabra(texto, palabra_a_eliminar):\n",
    "    \"\"\"Elimina todas las ocurrencias de una palabra del texto.\"\"\"\n",
    "    palabras = texto.split()\n",
    "    resultado = [palabra for palabra in palabras if palabra != palabra_a_eliminar]\n",
    "    return ' '.join(resultado)\n",
    "\n",
    "def procesar_texto(texto, opcion, *args):\n",
    "    \"\"\"Procesa el texto según la opción indicada y argumentos adicionales.\"\"\"\n",
    "    if opcion == \"contar\":\n",
    "        return contar_palabras(texto)\n",
    "    elif opcion == \"reemplazar\":\n",
    "        if len(args) != 2:\n",
    "            raise ValueError(\"Para 'reemplazar' se requieren 2 argumentos: palabra_original y palabra_nueva.\")\n",
    "        return reemplazar_palabras(texto, args[0], args[1])\n",
    "    elif opcion == \"eliminar\":\n",
    "        if len(args) != 1:\n",
    "            raise ValueError(\"Para 'eliminar' se requiere 1 argumento: palabra_a_eliminar.\")\n",
    "        return eliminar_palabra(texto, args[0])\n",
    "    else:\n",
    "        raise ValueError(\"Opción no válida. Usa 'contar', 'reemplazar' o 'eliminar'.\")\n",
    "\n",
    "# Caso de uso\n",
    "texto_ejemplo = \"Este ejercicio es muy complicado.\"\n",
    "\n",
    "# Contar palabras\n",
    "print(\"Contar palabras:\")\n",
    "print(procesar_texto(texto_ejemplo, \"contar\"))\n",
    "\n",
    "# Reemplazar palabra\n",
    "print(\"\\nReemplazar palabra:\")\n",
    "print(procesar_texto(texto_ejemplo, \"reemplazar\", \"ejercicio\", \"problema\"))\n",
    "\n",
    "# Eliminar palabra\n",
    "print(\"\\nEliminar palabra:\")\n",
    "print(procesar_texto(texto_ejemplo, \"eliminar\", \"muy\"))\n"
   ]
  },
  {
   "cell_type": "code",
   "execution_count": 62,
   "metadata": {},
   "outputs": [
    {
     "name": "stdout",
     "output_type": "stream",
     "text": [
      "Resultado: Es de tarde\n"
     ]
    }
   ],
   "source": [
    "# 38. Genera un programa que nos diga si es de noche, de día o tarde según la hora proporcionada por el usuario.\n",
    "def determinar_hora(hora):\n",
    "    \"\"\"\n",
    "    Determina si es de noche, tarde o día según la hora proporcionada.\n",
    "    \"\"\"\n",
    "    if 0 <= hora < 6:\n",
    "        return \"Es de noche\"\n",
    "    elif 6 <= hora < 12:\n",
    "        return \"Es de día\"\n",
    "    elif 12 <= hora < 18:\n",
    "        return \"Es de tarde\"\n",
    "    elif 18 <= hora < 24:\n",
    "        return \"Es de noche\"\n",
    "    else:\n",
    "        return \"Hora no válida\"\n",
    "# Solicitar hora al usuario\n",
    "hora_usuario = int(input(\"Ingrese la hora (0-23): \"))\n",
    "# Aplicar la función\n",
    "resultado = determinar_hora(hora_usuario)\n",
    "# Imprimir el resultado\n",
    "print(\"Resultado:\", resultado)"
   ]
  },
  {
   "cell_type": "markdown",
   "metadata": {},
   "source": [
    "39. Escribe un programa que determine qué calificación en texto tiene un alumno en base a su calificación numérica.\n",
    "Las reglas de calificación son:\n",
    "- 0 - 69 insuficiente\n",
    "- 70 - 79 bien\n",
    "- 80 - 89 muy bien\n",
    "- 90 - 100 excelente"
   ]
  },
  {
   "cell_type": "code",
   "execution_count": 64,
   "metadata": {},
   "outputs": [
    {
     "name": "stdout",
     "output_type": "stream",
     "text": [
      "La calificación en texto es: muy bien\n"
     ]
    }
   ],
   "source": [
    "def calificacion_en_texto(nota):\n",
    "    if 0 <= nota <= 69:\n",
    "        return \"insuficiente\"\n",
    "    elif 70 <= nota <= 79:\n",
    "        return \"bien\"\n",
    "    elif 80 <= nota <= 89:\n",
    "        return \"muy bien\"\n",
    "    elif 90 <= nota <= 100:\n",
    "        return \"excelente\"\n",
    "    else:\n",
    "        return \"Nota fuera de rango (debe estar entre 0 y 100)\"\n",
    "\n",
    "# Ejemplo de uso\n",
    "try:\n",
    "    nota = float(input(\"Introduce la calificación numérica del alumno (0-100): \"))\n",
    "    resultado = calificacion_en_texto(nota)\n",
    "    print(f\"La calificación en texto es: {resultado}\")\n",
    "except ValueError:\n",
    "    print(\"Por favor, introduce un número válido.\")"
   ]
  },
  {
   "cell_type": "code",
   "execution_count": 65,
   "metadata": {},
   "outputs": [
    {
     "name": "stdout",
     "output_type": "stream",
     "text": [
      "Área del rectángulo: 50\n",
      "Área del círculo: 28.27431\n",
      "Área del triángulo: 12.0\n"
     ]
    }
   ],
   "source": [
    "# 40. Escribe una función que tome dos parámetros: figura (una cadena que puede ser \"rectangulo\" , \"circulo\" o \"triangulo\" ) y datos (una tupla con los datos necesarios para calcular el área de la figura).\n",
    "def calcular_area(figura, datos):\n",
    "    \"\"\"\n",
    "    Calcula el área de diferentes figuras geométricas.\n",
    "    \"\"\"\n",
    "    if figura == \"rectangulo\":\n",
    "        base, altura = datos\n",
    "        return base * altura\n",
    "    elif figura == \"circulo\":\n",
    "        radio, = datos\n",
    "        return 3.14159 * radio ** 2\n",
    "    elif figura == \"triangulo\":\n",
    "        base, altura = datos\n",
    "        return (base * altura) / 2\n",
    "    else:\n",
    "        raise ValueError(\"Figura no válida. Debe ser 'rectangulo', 'circulo' o 'triangulo'.\")\n",
    "# Ejemplos de uso\n",
    "try:\n",
    "    area_rectangulo = calcular_area(\"rectangulo\", (5, 10))\n",
    "    print(f\"Área del rectángulo: {area_rectangulo}\")\n",
    "\n",
    "    area_circulo = calcular_area(\"circulo\", (3,))\n",
    "    print(f\"Área del círculo: {area_circulo}\")\n",
    "\n",
    "    area_triangulo = calcular_area(\"triangulo\", (4, 6))\n",
    "    print(f\"Área del triángulo: {area_triangulo}\")\n",
    "except ValueError as e:\n",
    "    print(e)"
   ]
  },
  {
   "cell_type": "markdown",
   "metadata": {},
   "source": [
    "41. En este ejercicio, se te pedirá que escribas un programa en Python que utilice condicionales para determinar el\n",
    "monto final de una compra en una tienda en línea, después de aplicar un descuento. El programa debe hacer lo\n",
    "siguiente:\n",
    "1. Solicita al usuario que ingrese el precio original de un artículo.\n",
    "2. Pregunta al usuario si tiene un cupón de descuento (respuesta sí o no).\n",
    "3. Si el usuario responde que sí, solicita que ingrese el valor del cupón de descuento.\n",
    "4. Aplica el descuento al precio original del artículo, siempre y cuando el valor del cupón sea válido (es decir, mayor\n",
    "a cero). Por ejemplo, descuento de 15€. \n",
    "5. Muestra el precio final de la compra, teniendo en cuenta el descuento aplicado o sin él. \n",
    "6. Recuerda utilizar estructuras de control de flujo como if, elif y else para llevar a cabo estas acciones en tu\n",
    "programa de Python."
   ]
  },
  {
   "cell_type": "code",
   "execution_count": null,
   "metadata": {},
   "outputs": [
    {
     "name": "stdout",
     "output_type": "stream",
     "text": [
      "Descuento aplicado. El precio final es: 165.00 €\n"
     ]
    }
   ],
   "source": [
    "# Paso 1: Solicita el precio original del artículo\n",
    "precio_original = float(input(\"Introduce el precio original del artículo (€): \"))\n",
    "\n",
    "# Paso 2: Pregunta si tiene un cupón de descuento\n",
    "tiene_cupon = input(\"¿Tienes un cupón de descuento? (sí o no): \").strip().lower()\n",
    "\n",
    "# Paso 3 y 4: Verifica y aplica el cupón si es válido\n",
    "if tiene_cupon == \"sí\":\n",
    "    valor_cupon = float(input(\"Introduce el valor del cupón de descuento (€): \"))\n",
    "    if valor_cupon > 0:\n",
    "        precio_final = precio_original - valor_cupon\n",
    "        if precio_final < 0:\n",
    "            precio_final = 0  # Evita que el precio final sea negativo\n",
    "        print(f\"Descuento aplicado. El precio final es: {precio_final:.2f} €\")\n",
    "    elif valor_cupon == 0:\n",
    "        print(f\"El cupón no tiene valor. El precio final es: {precio_original:.2f} €\")\n",
    "    else:\n",
    "        print(\"Error: el valor del cupón no puede ser negativo.\")\n",
    "elif tiene_cupon == \"no\":\n",
    "    print(f\"No se aplicó ningún descuento. El precio final es: {precio_original:.2f} €\")\n",
    "else:\n",
    "    print(\"Respuesta no válida. Por favor, responde con 'sí' o 'no'.\")"
   ]
  }
 ],
 "metadata": {
  "kernelspec": {
   "display_name": "Python 3",
   "language": "python",
   "name": "python3"
  },
  "language_info": {
   "codemirror_mode": {
    "name": "ipython",
    "version": 3
   },
   "file_extension": ".py",
   "mimetype": "text/x-python",
   "name": "python",
   "nbconvert_exporter": "python",
   "pygments_lexer": "ipython3",
   "version": "3.13.3"
  }
 },
 "nbformat": 4,
 "nbformat_minor": 2
}
